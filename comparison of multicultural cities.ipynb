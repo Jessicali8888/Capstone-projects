{
    "nbformat_minor": 1, 
    "cells": [
        {
            "source": "# Comparison of multicultural cities", 
            "cell_type": "markdown", 
            "metadata": {
                "collapsed": true
            }
        }, 
        {
            "source": "## Introduction: Description & Disscusion of the Background", 
            "cell_type": "markdown", 
            "metadata": {}
        }, 
        {
            "source": "New York City is one of the large cities in USA, it's also the most densely populated major city in USA. The city constitutes the premier gateway for immigration to the USA. There are more than 800 languages are spoken in New York City. It's one of the most multicultural cities in the world.\nToronto is Canada's largest city, the fourth largest in North American, and home to a diverse population. The diverse population of Toronto reflects its role as an important destination for immigrants to Canada. Over 160 languages are spoken in the city. Toronto is also one of the most multicultural cities in the world.\nLos Angeles is one of the most stylish cities in the world. Almost 100 language speaking people reside at Los Angeles and hence every style, dress and cuisines of this city is different. Los Angeles is a welcoming place for immigrants.It is also one of the most multicultural cities in the world.\n\nNew York, Toronto and Los Angeles are all multicultural cities. They attract thousands of people from all over the world to live in. While the cities have some similarities and may be attractive to various people depending on lifestyles and preferences. In this project we will try to compare these three multicultural cities to see how similar they are. There are so many ways to compare cities. In this project we would like to use foursquare data to compare venues (i.e. density, distribution, categories of venues) in these cities and their clustered neighbourhoods. We will use our data science powers to determine if the cities are similar or dissimilar in multiple ways. ", 
            "cell_type": "markdown", 
            "metadata": {}
        }, 
        {
            "source": "## Data Description", 
            "cell_type": "markdown", 
            "metadata": {}
        }, 
        {
            "source": "Based on definition of our problem, factors that will influence our decision are:\n<br>\n\u2022\tPopulation of the neighbourhood/city\n<br>\n\u2022\tDensity of neighborhood/city\n<br>\n\u2022\tHow many categories of venues in the neighborhood/city?\n<br>\n\u2022\tDensity of venues in the neighborhood/city?\n<br>\nWe can use these factors to determine if cities are similar to each other.\n\nTo consider the problem we can list the data as below:\n<br>\nI use https://geo.nyu.edu/catalog/nyu_2451_34572 data to get neighborhoods as well as the the latitude and logitude coordinates of each neighborhood of New York City. We can find Toronto's neibourhoods and the latitude and logitude coordinates of each neighborhood from wikipedia https://en.wikipedia.org/wiki/List_of_postal_codes_of_Canada:_M. A csv file contians latitude and logitude information of Toronto. Los Angeles neibourhoods information are available on SOCR Data LA Neighborhoods: Datahttp://wiki.stat.ucla.edu/socr/index.php/SOCR_Data_LA_Neighborhoods_Data#SOCR_Data_-_Los_Angeles_City_Neighborhoods_Data.\n\nI used Forsquare API to get the most common venues of given neibourhoods of three cities.\n\n\n\n\n", 
            "cell_type": "markdown", 
            "metadata": {}
        }, 
        {
            "execution_count": null, 
            "cell_type": "code", 
            "metadata": {}, 
            "outputs": [], 
            "source": "!conda install -c conda-forge geopy --yes"
        }, 
        {
            "execution_count": 2, 
            "cell_type": "code", 
            "metadata": {}, 
            "outputs": [
                {
                    "output_type": "stream", 
                    "name": "stdout", 
                    "text": "Solving environment: done\n\n## Package Plan ##\n\n  environment location: /opt/conda/envs/Python36\n\n  added / updated specs: \n    - folium=0.5.0\n\n\nThe following packages will be downloaded:\n\n    package                    |            build\n    ---------------------------|-----------------\n    vincent-0.4.4              |             py_1          28 KB  conda-forge\n    folium-0.5.0               |             py_0          45 KB  conda-forge\n    branca-0.3.1               |             py_0          25 KB  conda-forge\n    altair-3.2.0               |           py36_0         770 KB  conda-forge\n    ------------------------------------------------------------\n                                           Total:         868 KB\n\nThe following NEW packages will be INSTALLED:\n\n    altair:  3.2.0-py36_0 conda-forge\n    branca:  0.3.1-py_0   conda-forge\n    folium:  0.5.0-py_0   conda-forge\n    vincent: 0.4.4-py_1   conda-forge\n\n\nDownloading and Extracting Packages\nvincent-0.4.4        | 28 KB     | ##################################### | 100% \nfolium-0.5.0         | 45 KB     | ##################################### | 100% \nbranca-0.3.1         | 25 KB     | ##################################### | 100% \naltair-3.2.0         | 770 KB    | ##################################### | 100% \nPreparing transaction: done\nVerifying transaction: done\nExecuting transaction: done\n"
                }
            ], 
            "source": "!conda install -c conda-forge folium=0.5.0 --yes"
        }, 
        {
            "execution_count": 3, 
            "cell_type": "code", 
            "metadata": {}, 
            "outputs": [
                {
                    "output_type": "stream", 
                    "name": "stdout", 
                    "text": "Libraries imported.\n"
                }
            ], 
            "source": "import numpy as np # library to handle data in a vectorized manner\n\nimport pandas as pd # library for data analsysis\npd.set_option('display.max_columns', None)\npd.set_option('display.max_rows', None)\n\nimport json # library to handle JSON files\n\n#!conda install -c conda-forge geopy --yes # uncomment this line if you haven't completed the Foursquare API lab\nfrom geopy.geocoders import Nominatim # convert an address into latitude and longitude values\n\nimport requests # library to handle requests\nfrom pandas.io.json import json_normalize # tranform JSON file into a pandas dataframe\n\n# Matplotlib and associated plotting modules\nimport matplotlib.cm as cm\nimport matplotlib.colors as colors\n\n# import k-means from clustering stage\nfrom sklearn.cluster import KMeans\n\n#!conda install -c conda-forge folium=0.5.0 --yes # uncomment this line if you haven't completed the Foursquare API lab\nimport folium # map rendering library\n\nprint('Libraries imported.')"
        }, 
        {
            "execution_count": null, 
            "cell_type": "code", 
            "metadata": {}, 
            "outputs": [], 
            "source": ""
        }
    ], 
    "metadata": {
        "kernelspec": {
            "display_name": "Python 3.6", 
            "name": "python3", 
            "language": "python"
        }, 
        "language_info": {
            "mimetype": "text/x-python", 
            "nbconvert_exporter": "python", 
            "version": "3.6.8", 
            "name": "python", 
            "file_extension": ".py", 
            "pygments_lexer": "ipython3", 
            "codemirror_mode": {
                "version": 3, 
                "name": "ipython"
            }
        }
    }, 
    "nbformat": 4
}